{
 "cells": [
  {
   "cell_type": "code",
   "execution_count": 2,
   "metadata": {},
   "outputs": [],
   "source": [
    "import os\n",
    "import os.path as osp\n",
    "\n",
    "import pandas as pd\n",
    "import numpy as np\n",
    "\n",
    "from datetime import datetime"
   ]
  },
  {
   "cell_type": "code",
   "execution_count": 3,
   "metadata": {},
   "outputs": [
    {
     "name": "stdout",
     "output_type": "stream",
     "text": [
      "record_id object\n",
      "longitude float64\n",
      "latitude float64\n",
      "speed float64\n",
      "heading int64\n",
      "navigation_status float64\n",
      "mmsi int64\n",
      "ship_type float64\n",
      "ship_name float64\n",
      "timestamp datetime64[ns]\n",
      "decode_timestamp datetime64[ns]\n",
      "data_timestamp object\n",
      "day_id int64\n",
      "\n",
      "number of records 110491\n"
     ]
    }
   ],
   "source": [
    "df = pd.read_excel(\"data/AIS_DEVICE_MESSAGE.xlsx\")\n",
    "for col in df.columns:\n",
    "    print(col, df[col].dtype)\n",
    "print(\"\\nnumber of records\", len(df))"
   ]
  },
  {
   "cell_type": "code",
   "execution_count": 26,
   "metadata": {},
   "outputs": [],
   "source": [
    "dates = [str(x)[:10] for x in df[\"timestamp\"].values]\n",
    "df[\"date\"] = dates\n",
    "unixstamp = [\n",
    "    datetime.strptime(np.datetime_as_string(timestamp, unit='ms'), '%Y-%m-%dT%H:%M:%S.%f').timestamp()\n",
    "    for timestamp in df[\"timestamp\"].values\n",
    "]\n",
    "# for timestamp in df[\"timestamp\"].values:\n",
    "#     try:\n",
    "#         unixstamp.append(datetime.strptime(np.datetime_as_string(timestamp, unit='ms'), '%Y-%m-%dT%H:%M:%S.%f'))\n",
    "#     except Exception as e:\n",
    "#         print(\"error data\", str(timestamp), e)\n",
    "# unixstamp = [ for timestamp in df[\"timestamp\"].values]\n",
    "df[\"unixstamp\"] = unixstamp"
   ]
  },
  {
   "cell_type": "code",
   "execution_count": 27,
   "metadata": {},
   "outputs": [
    {
     "name": "stdout",
     "output_type": "stream",
     "text": [
      "saved group 2024-07-23\n",
      "saved group 2024-07-24\n",
      "saved group 2024-07-25\n",
      "saved group 2024-07-26\n",
      "saved group 2024-07-27\n",
      "saved group 2024-07-29\n",
      "saved group 2024-07-30\n"
     ]
    }
   ],
   "source": [
    "groups = df.groupby(\"date\")\n",
    "for name, group in groups:\n",
    "    file_path = f\"data/{name}.csv\"\n",
    "    group.to_csv(file_path, index=False)\n",
    "    print(f\"saved group {name}\")"
   ]
  },
  {
   "cell_type": "code",
   "execution_count": 21,
   "metadata": {},
   "outputs": [
    {
     "data": {
      "text/plain": [
       "1721750398.68"
      ]
     },
     "execution_count": 21,
     "metadata": {},
     "output_type": "execute_result"
    }
   ],
   "source": [
    "import numpy as np\n",
    "\n",
    "# 创建 numpy.datetime64 对象\n",
    "dt64 = np.datetime64('2024-07-23T23:59:58.680000')\n",
    "\n",
    "# 转换为字符串\n",
    "dt_str = np.datetime_as_string(dt64, unit='ms')  # 可以选择不同的单位，如 'ms', 's', 'D', etc.\n",
    "\n",
    "datetime.strptime(dt_str, '%Y-%m-%dT%H:%M:%S.%f').timestamp()\n"
   ]
  }
 ],
 "metadata": {
  "kernelspec": {
   "display_name": "ekf",
   "language": "python",
   "name": "python3"
  },
  "language_info": {
   "codemirror_mode": {
    "name": "ipython",
    "version": 3
   },
   "file_extension": ".py",
   "mimetype": "text/x-python",
   "name": "python",
   "nbconvert_exporter": "python",
   "pygments_lexer": "ipython3",
   "version": "3.9.19"
  }
 },
 "nbformat": 4,
 "nbformat_minor": 2
}
