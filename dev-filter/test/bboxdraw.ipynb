{
 "cells": [
  {
   "cell_type": "code",
   "execution_count": 48,
   "metadata": {},
   "outputs": [],
   "source": [
    "import os\n",
    "import os.path as osp\n",
    "import sys\n",
    "sys.path.append(\"..\")\n",
    "\n",
    "import numpy as np\n",
    "import open3d as o3d\n",
    "from plyfile import PlyData, PlyElement\n",
    "\n",
    "import utils"
   ]
  },
  {
   "cell_type": "code",
   "execution_count": 49,
   "metadata": {},
   "outputs": [
    {
     "name": "stdout",
     "output_type": "stream",
     "text": [
      "max, min, avg: [4.49300003 2.94000006 2.71399999] [-3.57399988 -4.28200006 -0.296     ] [-0.21842872 -0.28041949  0.74502877]\n",
      "before voxelized: 12234\n",
      "after voxelized: 7677\n",
      "max, min, avg: [8.07 7.23 3.01] [0.01 0.01 0.01] [3.25279015 3.75302462 1.39481178]\n"
     ]
    }
   ],
   "source": [
    "pcd_path = \"../data/kinth/pointcloud/1720509720.141261339.pcd\"\n",
    "pcd = o3d.io.read_point_cloud(pcd_path)\n",
    "# pcd = pcd.voxel_down_sample(voxel_size=0.01)\n",
    "pcd = pcd.remove_radius_outlier(nb_points=25, radius=0.2)[0] # (pcd, new indexed from old)\n",
    "\n",
    "points = np.asarray(pcd.points)\n",
    "print(\"max, min, avg:\", points.max(axis=0), points.min(axis=0), points.mean(axis=0))\n",
    "print(f\"before voxelized: {len(points)}\")\n",
    "points, _, _, _ = utils.voxel_downsample(points, 0.02, use_avg=False)\n",
    "print(f\"after voxelized: {len(points)}\")\n",
    "print(\"max, min, avg:\", points.max(axis=0), points.min(axis=0), points.mean(axis=0))\n"
   ]
  },
  {
   "cell_type": "markdown",
   "metadata": {},
   "source": [
    "# draw box"
   ]
  },
  {
   "cell_type": "code",
   "execution_count": 50,
   "metadata": {},
   "outputs": [],
   "source": [
    "def aabb_draw_meta(data):\n",
    "    assert isinstance(data, np.ndarray) or isinstance(data, o3d.geometry.PointCloud)\n",
    "\n",
    "    o3dpcd = None\n",
    "    if isinstance(data, np.ndarray):\n",
    "        assert len(data.shape) == 2\n",
    "        pcd = o3d.geometry.PointCloud()\n",
    "        pcd.points = o3d.utility.Vector3dVector(data)\n",
    "        o3dpcd = pcd\n",
    "    else:\n",
    "        o3dpcd = data\n",
    "    \n",
    "    aabb = o3dpcd.get_axis_aligned_bounding_box()\n",
    "    # print(aabb.get_min_bound(), aabb.get_max_bound())\n",
    "    bbox_vtx_list = np.asarray(aabb.get_box_points())\n",
    "\n",
    "    center = bbox_vtx_list.mean(axis=0)\n",
    "\n",
    "    bbox_vtx_list = bbox_vtx_list - center\n",
    "\n",
    "    draw_sequence = [\n",
    "        [0, 1],\n",
    "        [1, 3],\n",
    "        [3, 2],\n",
    "        [2, 0],\n",
    "        [4, 5],\n",
    "        [5, 7],\n",
    "        [7, 6],\n",
    "        [6, 4]\n",
    "    ]\n",
    "\n",
    "    selection_base = np.hstack([np.abs(bbox_vtx_list[0]).reshape(-1, 1), -np.abs(bbox_vtx_list[0]).reshape(-1, 1)])\n",
    "\n",
    "    bbox_points = []\n",
    "    for i in range(8):\n",
    "        idx = [int(x) for x in bin(i)[2:].zfill(3)]\n",
    "        bbox_points.append([\n",
    "            selection_base[0][idx[0]],\n",
    "            selection_base[1][idx[1]],\n",
    "            selection_base[2][idx[2]]\n",
    "        ])\n",
    "    \n",
    "    return np.array(bbox_points + center), np.array(draw_sequence)"
   ]
  },
  {
   "cell_type": "code",
   "execution_count": 51,
   "metadata": {},
   "outputs": [],
   "source": [
    "bbox_points, draw_sequence = aabb_draw_meta(points)\n",
    "\n",
    "ply_vtx = PlyElement.describe(\n",
    "    data=np.core.records.fromarrays(\n",
    "        np.concatenate([points, bbox_points], axis=0).transpose(),\n",
    "        dtype=[('x', 'f4'), ('y', 'f4'), ('z', 'f4')]\n",
    "    ),\n",
    "    name=\"vertex\"\n",
    ")\n",
    "\n",
    "ply_edg = PlyElement.describe(\n",
    "    data=np.core.records.fromarrays(\n",
    "        (draw_sequence + len(points)).transpose(),\n",
    "        dtype=[('vertex1', 'u4'), ('vertex2', 'u4')]\n",
    "    ),\n",
    "    name=\"edge\"\n",
    ")\n",
    "\n",
    "ply_data = PlyData([ply_vtx, ply_edg], text=False)\n",
    "ply_data.write(\"../data/output/bbox_test.ply\")"
   ]
  }
 ],
 "metadata": {
  "kernelspec": {
   "display_name": "fgd-pointcloud",
   "language": "python",
   "name": "python3"
  },
  "language_info": {
   "codemirror_mode": {
    "name": "ipython",
    "version": 3
   },
   "file_extension": ".py",
   "mimetype": "text/x-python",
   "name": "python",
   "nbconvert_exporter": "python",
   "pygments_lexer": "ipython3",
   "version": "3.9.19"
  }
 },
 "nbformat": 4,
 "nbformat_minor": 2
}
