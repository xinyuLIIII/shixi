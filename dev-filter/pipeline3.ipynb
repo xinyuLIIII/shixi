{
 "cells": [
  {
   "cell_type": "code",
   "execution_count": null,
   "metadata": {},
   "outputs": [],
   "source": [
    "import os\n",
    "import os.path as osp\n",
    "\n",
    "import numpy as np\n",
    "import open3d as o3d\n",
    "import cv2\n",
    "\n",
    "import utils\n",
    "\n",
    "from tqdm import tqdm\n",
    "import matplotlib\n",
    "import matplotlib.pyplot as plt\n",
    "import matplotlib.cm as cm"
   ]
  },
  {
   "cell_type": "code",
   "execution_count": null,
   "metadata": {},
   "outputs": [],
   "source": [
    "pcd_path = \"data/kinth/pointcloud/1720509720.141261339.pcd\"\n",
    "pcd = o3d.io.read_point_cloud(pcd_path)\n",
    "# pcd = pcd.voxel_down_sample(voxel_size=0.01)\n",
    "pcd = pcd.remove_radius_outlier(nb_points=25, radius=0.2)[0] # (pcd, new indexed from old)\n",
    "\n",
    "points = np.asarray(pcd.points)\n",
    "points = points - points.mean(axis=0)\n",
    "print(\"max, min:\", points.max(axis=0), points.min(axis=0))\n",
    "print(f\"before voxelized: {len(points)}\")\n",
    "points, _, _, _ = utils.voxel_downsample(points, 0.02, use_avg=False)\n",
    "print(\"max, min:\", points.max(axis=0), points.min(axis=0))\n",
    "print(f\"after voxelized: {len(points)}\")"
   ]
  },
  {
   "cell_type": "markdown",
   "metadata": {},
   "source": [
    "# stage 1"
   ]
  },
  {
   "cell_type": "code",
   "execution_count": null,
   "metadata": {},
   "outputs": [],
   "source": [
    "radius = 0.15\n",
    "\n",
    "colors = np.ones((len(points), 3), dtype=np.int32) * 75\n",
    "\n",
    "stage1_feat_list = []\n",
    "search_tree = o3d.geometry.KDTreeFlann(utils.npy2o3d(points))\n",
    "for query_idx in tqdm(range(len(points)), total=len(points), ncols=100):\n",
    "    query = points[query_idx]\n",
    "    neighbour_num, neighbour_idx_list, _ = search_tree.search_radius_vector_3d(query, radius)\n",
    "    if neighbour_num <= 3:\n",
    "        stage1_feat_list.append([0.0, 0.0])\n",
    "        continue\n",
    "    eigvals, eigvecs = utils.pca_k(points[neighbour_idx_list], 3)\n",
    "    assert eigvals[0] >= eigvals[1] and eigvals[1] >= eigvals[2]\n",
    "    feat = np.array([\n",
    "        (eigvals[0] - eigvals[1]) / (eigvals[0] + 1e-9),\n",
    "        (eigvals[1] - eigvals[2]) / (eigvals[1] + 1e-9)\n",
    "    ])\n",
    "    feat = feat / feat.sum()\n",
    "    stage1_feat_list.append(feat)\n",
    "    \n",
    "    colors[query_idx, :2] = (feat * 255.0).astype(np.int32)\n",
    "\n",
    "utils.npy2ply(points, colors, \"data/output/stage1.ply\")\n",
    "\n",
    "stage1_feat_list = np.array(stage1_feat_list)"
   ]
  },
  {
   "cell_type": "markdown",
   "metadata": {},
   "source": [
    "# stage 2"
   ]
  },
  {
   "cell_type": "code",
   "execution_count": null,
   "metadata": {},
   "outputs": [],
   "source": [
    "wup = np.array([0, 0, 1])\n",
    "border = 0.4\n",
    "colors = np.ones((len(points), 3), dtype=np.int32) * 50\n",
    "\n",
    "stage2_feat_list = []\n",
    "\n",
    "for query_idx in tqdm(range(len(points)), total=len(points), ncols=100):\n",
    "    query = points[query_idx]\n",
    "    mask = (\n",
    "        (np.abs(points[:, 0] - query[0]) < border / 2.0) &\n",
    "        (np.abs(points[:, 1] - query[1]) < border / 2.0) &\n",
    "        (np.abs(points[:, 2] - query[2]) < border)\n",
    "    )\n",
    "    mask[query_idx] = False\n",
    "    vicinity = points[mask]\n",
    "    if len(vicinity) < 3:\n",
    "        stage2_feat_list.append(0.0)\n",
    "        continue\n",
    "    feat = (1.0 - utils.sin_batch(points[mask] - query, wup)).mean()\n",
    "    stage2_feat_list.append(feat)\n",
    "    \n",
    "    colors[query_idx] = int(feat * 255.0)\n",
    "\n",
    "utils.npy2ply(points, colors, \"data/output/stage2.ply\")\n",
    "\n",
    "stage2_feat_list = np.array(stage2_feat_list)"
   ]
  },
  {
   "cell_type": "markdown",
   "metadata": {},
   "source": [
    "# filter"
   ]
  },
  {
   "cell_type": "code",
   "execution_count": null,
   "metadata": {},
   "outputs": [],
   "source": [
    "mask1 = (stage1_feat_list[:, 1] > 0.7)\n",
    "mask2 = (stage2_feat_list > 0.3)\n",
    "\n",
    "mask_filtered = mask1 & mask2\n",
    "print(mask1.astype(np.int32).sum() / len(points))\n",
    "print(mask2.astype(np.int32).sum() / len(points))\n",
    "print(mask_filtered.astype(np.int32).sum() / len(points))\n",
    "\n",
    "points_filtered = points[mask_filtered]\n",
    "utils.npy2ply(points_filtered, None, \"data/output/filtered.ply\")\n",
    "\n",
    "mask_denoised = utils.radius_filter(points_filtered, 0.2, 20)\n",
    "points_denoised = points_filtered[mask_denoised] \n",
    "utils.npy2ply(points_denoised, None, \"data/output/denoised.ply\")\n"
   ]
  },
  {
   "cell_type": "markdown",
   "metadata": {},
   "source": [
    "# cluster"
   ]
  },
  {
   "cell_type": "code",
   "execution_count": null,
   "metadata": {},
   "outputs": [],
   "source": [
    "cluster_label = np.array(utils.npy2o3d(points_denoised).cluster_dbscan(eps=0.15, min_points=20))"
   ]
  },
  {
   "cell_type": "code",
   "execution_count": null,
   "metadata": {},
   "outputs": [],
   "source": [
    "print(np.unique(cluster_label))\n",
    "# do the color map\n",
    "norm = plt.Normalize(cluster_label.min(), cluster_label.max())\n",
    "cmap = matplotlib.colormaps['viridis']\n",
    "colors = (cmap(norm(cluster_label))[:, :3] * 255.0).astype(np.int32)\n",
    "utils.npy2ply(points_denoised, colors, \"data/output/clustered.ply\")"
   ]
  },
  {
   "cell_type": "markdown",
   "metadata": {},
   "source": [
    "# single cluster bounding box"
   ]
  },
  {
   "cell_type": "code",
   "execution_count": null,
   "metadata": {},
   "outputs": [],
   "source": [
    "aabb = utils.npy2o3d(points_denoised[cluster_label == 0]).get_axis_aligned_bounding_box()\n",
    "print(aabb)\n",
    "print(dir(aabb))\n",
    "print(np.asarray(aabb.get_box_points()))"
   ]
  },
  {
   "cell_type": "code",
   "execution_count": null,
   "metadata": {},
   "outputs": [],
   "source": [
    "obb = utils.npy2o3d(points_denoised[cluster_label == 0]).get_oriented_bounding_box()\n",
    "print(obb)\n",
    "print(dir(obb))\n",
    "print(obb.R)\n",
    "print(np.asarray(obb.get_box_points()))"
   ]
  },
  {
   "cell_type": "code",
   "execution_count": null,
   "metadata": {},
   "outputs": [],
   "source": [
    "bbox_points = np.asarray(aabb.get_box_points())\n",
    "bbox_proj_3d, bbox_3d_dist = utils.project_to_plane(bbox_points, np.array([1, 2, 3]), np.array([0, 0, 1]))\n",
    "bbox_proj_2d_densit, bbox_proj_2d_height, bbox_proj_grid_index = utils.rasterize(bbox_proj_3d, bbox_3d_dist, 0.01)\n",
    "print(bbox_proj_grid_index)\n",
    "bbox_img = cv2.cvtColor((bbox_proj_2d_densit * 255.0).astype(np.uint8), cv2.COLOR_GRAY2BGR)\n",
    "for i in range(len(bbox_proj_grid_index)):\n",
    "    p1 = bbox_proj_grid_index[i][::-1]\n",
    "    p2 = bbox_proj_grid_index[(i+1)%len(bbox_proj_grid_index)][::-1]\n",
    "    cv2.line(bbox_img, p1, p2, (0, 255, 0), 1)\n",
    "cv2.imwrite(\"data/output/bbox_test.png\", bbox_img)"
   ]
  },
  {
   "cell_type": "markdown",
   "metadata": {},
   "source": [
    "# multicluster projection"
   ]
  },
  {
   "cell_type": "code",
   "execution_count": null,
   "metadata": {},
   "outputs": [],
   "source": [
    "cluster_label = np.array(utils.npy2o3d(points_denoised).cluster_dbscan(eps=0.15, min_points=20))\n",
    "\n",
    "proj_3d, dist_3d = utils.project_to_plane(\n",
    "    points_denoised,\n",
    "    np.array([1, 2, 3]),\n",
    "    np.array([0, 0, 1])\n",
    ")\n",
    "\n",
    "proj_2d_densit, proj_2d_height, grid_idx_list = utils.rasterize(\n",
    "    proj_3d, dist_3d, 0.01\n",
    ")\n",
    "\n",
    "plt.imshow(proj_2d_densit)\n",
    "\n",
    "# prepare for color mapping\n",
    "norm = plt.Normalize(cluster_label.min(), cluster_label.max())\n",
    "cmap = matplotlib.colormaps['viridis']\n",
    "colors = (cmap(norm(cluster_label))[:, :3] * 255.0).astype(np.uint8)\n",
    "result_img = cv2.cvtColor((proj_2d_densit * 255.0).astype(np.uint8), cv2.COLOR_GRAY2BGR)\n",
    "print(result_img.shape)\n",
    "for idx, coord in enumerate(grid_idx_list):\n",
    "    result_img[coord[0], coord[1]] = colors[idx]\n",
    "cv2.imwrite(\"data/output/cluster_proj.png\", result_img)"
   ]
  }
 ],
 "metadata": {
  "kernelspec": {
   "display_name": "fgd-pointcloud",
   "language": "python",
   "name": "python3"
  },
  "language_info": {
   "codemirror_mode": {
    "name": "ipython",
    "version": 3
   },
   "file_extension": ".py",
   "mimetype": "text/x-python",
   "name": "python",
   "nbconvert_exporter": "python",
   "pygments_lexer": "ipython3",
   "version": "3.9.19"
  }
 },
 "nbformat": 4,
 "nbformat_minor": 2
}
